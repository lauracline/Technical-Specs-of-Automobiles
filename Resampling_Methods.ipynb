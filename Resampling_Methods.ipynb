{
  "nbformat": 4,
  "nbformat_minor": 0,
  "metadata": {
    "colab": {
      "name": "Resampling Methods",
      "provenance": [],
      "authorship_tag": "ABX9TyPtgeiqOkIKnXHY9e/LDEFm",
      "include_colab_link": true
    },
    "kernelspec": {
      "name": "python3",
      "display_name": "Python 3"
    },
    "language_info": {
      "name": "python"
    }
  },
  "cells": [
    {
      "cell_type": "markdown",
      "metadata": {
        "id": "view-in-github",
        "colab_type": "text"
      },
      "source": [
        "<a href=\"https://colab.research.google.com/github/lauracline/Technical-Specs-of-Automobiles/blob/master/Resampling_Methods.ipynb\" target=\"_parent\"><img src=\"https://colab.research.google.com/assets/colab-badge.svg\" alt=\"Open In Colab\"/></a>"
      ]
    },
    {
      "cell_type": "markdown",
      "metadata": {
        "id": "2CL1NVF2kYIp"
      },
      "source": [
        "# **Resampling Methods**"
      ]
    },
    {
      "cell_type": "markdown",
      "metadata": {
        "id": "ctszSWqDkdow"
      },
      "source": [
        "## **Cross Validation**\n",
        "\n",
        "Usually a test set is not avaliable so a simple strategy to create one is to split the avaliable data into training and testing (validation set). For quanitative responses, usually use MSE, for categorical can use error rate, area under the curve, F1 score, weighting of confusion matrix, etc.\n",
        "\n",
        "## **Leave One Out Cross Validation**\n",
        "\n",
        "LOOCV has only one observation in the test set and uses all other n-1 observations to build a model. n different models are built leaving out eac observation once and error is averaged over these n trials. LOOCV is better than the simple method above. The model is built on nearly all the data and there is no randomness in the splits since each observation will be left out once. It is computationally expensive especially with large n and a complex model. \n",
        "\n",
        "## **K-Fold Cross Validation**\n",
        "\n",
        "Similiar to LOOCV, but this time you leave some number greater than 1 out. Here, k is the number of partitions of your sample, so if you have 1000 observations and k = 10, then each fold will be 100. These 100 observations would act as your test set. Get an MSE for each fold of these 100 observations and take the average. LOOCV is a special case of k-fold CV whenever k equals the number of observations. \n",
        "\n",
        "## **Bias-Variance Tradeoff Between LOOCV and K-Folds**\n",
        "\n",
        "Since LOOCV trains on nearly all the data, the test error rate will generally be lower than k-fold and therefore less biased. LOOCV will have higher vaariance since all n models will be very highly correlated to one another. Since the models won't differ much, the test error rate (which the CV is measuring) will vary more than k-fold which has fewer models that are less correlated with one another. A value of k between 5 and 10 is a good rule of thumb that balances the trade-off between bias and variance. "
      ]
    },
    {
      "cell_type": "code",
      "metadata": {
        "id": "c8HiiSnpkSMG"
      },
      "source": [
        "import numpy as np\n",
        "import matplotlib.pyplot as plt\n",
        "%matplotlib inline "
      ],
      "execution_count": 1,
      "outputs": []
    },
    {
      "cell_type": "markdown",
      "metadata": {
        "id": "qSmBkgSUmFWE"
      },
      "source": [
        "## Applied Excercises \n",
        "\n",
        "1. In chapter 4, we used logistic regression to predict the probability of `default` using `income` and `balance` on the `Default` dataset. We will now estimate the test error of this logistic regression model using the validation set approach. \n",
        "\n",
        "a. Fit a logistic regression model that uses `income` and `balance` to predict `default`. "
      ]
    },
    {
      "cell_type": "code",
      "metadata": {
        "id": "WFnMzhy5mijt"
      },
      "source": [
        "from sklearn.linear_model import LogisticRegression\n",
        "from sklearn.model_selection import train_test_split\n",
        "import pandas as pd"
      ],
      "execution_count": 2,
      "outputs": []
    },
    {
      "cell_type": "code",
      "metadata": {
        "id": "zhapvEH-mqjo"
      },
      "source": [
        "default = pd.read_csv('https://raw.githubusercontent.com/emredjan/ISL-python/master/datasets/Default.csv')\n",
        "default['student_yes'] = (default['student'] == 'Yes').astype('int')\n",
        "default['default_yes'] = (default['default'] == 'Yes').astype('int')"
      ],
      "execution_count": 21,
      "outputs": []
    },
    {
      "cell_type": "code",
      "metadata": {
        "colab": {
          "base_uri": "https://localhost:8080/",
          "height": 204
        },
        "id": "eSrBq5oenZLp",
        "outputId": "24709e02-bb25-47ed-a0f1-548e0114939a"
      },
      "source": [
        "default.head()"
      ],
      "execution_count": 4,
      "outputs": [
        {
          "output_type": "execute_result",
          "data": {
            "text/html": [
              "<div>\n",
              "<style scoped>\n",
              "    .dataframe tbody tr th:only-of-type {\n",
              "        vertical-align: middle;\n",
              "    }\n",
              "\n",
              "    .dataframe tbody tr th {\n",
              "        vertical-align: top;\n",
              "    }\n",
              "\n",
              "    .dataframe thead th {\n",
              "        text-align: right;\n",
              "    }\n",
              "</style>\n",
              "<table border=\"1\" class=\"dataframe\">\n",
              "  <thead>\n",
              "    <tr style=\"text-align: right;\">\n",
              "      <th></th>\n",
              "      <th>Unnamed: 0</th>\n",
              "      <th>default</th>\n",
              "      <th>student</th>\n",
              "      <th>balance</th>\n",
              "      <th>income</th>\n",
              "      <th>student_yes</th>\n",
              "      <th>default_yes</th>\n",
              "    </tr>\n",
              "  </thead>\n",
              "  <tbody>\n",
              "    <tr>\n",
              "      <th>0</th>\n",
              "      <td>1</td>\n",
              "      <td>No</td>\n",
              "      <td>No</td>\n",
              "      <td>729.526495</td>\n",
              "      <td>44361.625074</td>\n",
              "      <td>0</td>\n",
              "      <td>0</td>\n",
              "    </tr>\n",
              "    <tr>\n",
              "      <th>1</th>\n",
              "      <td>2</td>\n",
              "      <td>No</td>\n",
              "      <td>Yes</td>\n",
              "      <td>817.180407</td>\n",
              "      <td>12106.134700</td>\n",
              "      <td>1</td>\n",
              "      <td>0</td>\n",
              "    </tr>\n",
              "    <tr>\n",
              "      <th>2</th>\n",
              "      <td>3</td>\n",
              "      <td>No</td>\n",
              "      <td>No</td>\n",
              "      <td>1073.549164</td>\n",
              "      <td>31767.138947</td>\n",
              "      <td>0</td>\n",
              "      <td>0</td>\n",
              "    </tr>\n",
              "    <tr>\n",
              "      <th>3</th>\n",
              "      <td>4</td>\n",
              "      <td>No</td>\n",
              "      <td>No</td>\n",
              "      <td>529.250605</td>\n",
              "      <td>35704.493935</td>\n",
              "      <td>0</td>\n",
              "      <td>0</td>\n",
              "    </tr>\n",
              "    <tr>\n",
              "      <th>4</th>\n",
              "      <td>5</td>\n",
              "      <td>No</td>\n",
              "      <td>No</td>\n",
              "      <td>785.655883</td>\n",
              "      <td>38463.495879</td>\n",
              "      <td>0</td>\n",
              "      <td>0</td>\n",
              "    </tr>\n",
              "  </tbody>\n",
              "</table>\n",
              "</div>"
            ],
            "text/plain": [
              "   Unnamed: 0 default student  ...        income  student_yes  default_yes\n",
              "0           1      No      No  ...  44361.625074            0            0\n",
              "1           2      No     Yes  ...  12106.134700            1            0\n",
              "2           3      No      No  ...  31767.138947            0            0\n",
              "3           4      No      No  ...  35704.493935            0            0\n",
              "4           5      No      No  ...  38463.495879            0            0\n",
              "\n",
              "[5 rows x 7 columns]"
            ]
          },
          "metadata": {},
          "execution_count": 4
        }
      ]
    },
    {
      "cell_type": "code",
      "metadata": {
        "id": "Wya5UUIlnctd"
      },
      "source": [
        "X = default[['balance', 'income']]\n",
        "y = default['default_yes']"
      ],
      "execution_count": 6,
      "outputs": []
    },
    {
      "cell_type": "markdown",
      "metadata": {
        "id": "kYxaaSCvniKo"
      },
      "source": [
        "No validation set\n",
        "\n",
        "Using sklearn"
      ]
    },
    {
      "cell_type": "code",
      "metadata": {
        "colab": {
          "base_uri": "https://localhost:8080/"
        },
        "id": "O9g3n4w8nh3u",
        "outputId": "49915bbd-8478-47c5-f47c-e3fb4b4d101b"
      },
      "source": [
        "# Notice how tol must be changed to less than default value or \n",
        "# convergence won't happen\n",
        "# Use a high value of C to remove regularization \n",
        "\n",
        "model = LogisticRegression(C=100000, tol=.0000001)\n",
        "model.fit(X,y)\n",
        "model.intercept_, model.coef_"
      ],
      "execution_count": 7,
      "outputs": [
        {
          "output_type": "execute_result",
          "data": {
            "text/plain": [
              "(array([-11.54046839]), array([[5.64710291e-03, 2.08089921e-05]]))"
            ]
          },
          "metadata": {},
          "execution_count": 7
        }
      ]
    },
    {
      "cell_type": "markdown",
      "metadata": {
        "id": "QNjv3Vbsn9sN"
      },
      "source": [
        "Statsmodels \n",
        "\n",
        "Coefficients are similiar"
      ]
    },
    {
      "cell_type": "code",
      "metadata": {
        "id": "C0BJgSbuoBc_"
      },
      "source": [
        "import statsmodels.formula.api as smf"
      ],
      "execution_count": 8,
      "outputs": []
    },
    {
      "cell_type": "code",
      "metadata": {
        "colab": {
          "base_uri": "https://localhost:8080/"
        },
        "id": "mhyqv-nPoFTH",
        "outputId": "6c5863dd-09ec-43d9-d640-b6c4f03521b5"
      },
      "source": [
        "result = smf.logit(formula = 'default_yes ~ balance + income', data=default).fit()"
      ],
      "execution_count": 9,
      "outputs": [
        {
          "output_type": "stream",
          "name": "stdout",
          "text": [
            "Optimization terminated successfully.\n",
            "         Current function value: 0.078948\n",
            "         Iterations 10\n"
          ]
        }
      ]
    },
    {
      "cell_type": "code",
      "metadata": {
        "colab": {
          "base_uri": "https://localhost:8080/",
          "height": 354
        },
        "id": "WSvBFlmLoObo",
        "outputId": "6dbc1f06-9f7a-478f-ac83-69a3c2cacf7b"
      },
      "source": [
        "result.summary()"
      ],
      "execution_count": 10,
      "outputs": [
        {
          "output_type": "execute_result",
          "data": {
            "text/html": [
              "<table class=\"simpletable\">\n",
              "<caption>Logit Regression Results</caption>\n",
              "<tr>\n",
              "  <th>Dep. Variable:</th>      <td>default_yes</td>   <th>  No. Observations:  </th>   <td> 10000</td>  \n",
              "</tr>\n",
              "<tr>\n",
              "  <th>Model:</th>                 <td>Logit</td>      <th>  Df Residuals:      </th>   <td>  9997</td>  \n",
              "</tr>\n",
              "<tr>\n",
              "  <th>Method:</th>                 <td>MLE</td>       <th>  Df Model:          </th>   <td>     2</td>  \n",
              "</tr>\n",
              "<tr>\n",
              "  <th>Date:</th>            <td>Sun, 05 Sep 2021</td> <th>  Pseudo R-squ.:     </th>   <td>0.4594</td>  \n",
              "</tr>\n",
              "<tr>\n",
              "  <th>Time:</th>                <td>15:43:27</td>     <th>  Log-Likelihood:    </th>  <td> -789.48</td> \n",
              "</tr>\n",
              "<tr>\n",
              "  <th>converged:</th>             <td>True</td>       <th>  LL-Null:           </th>  <td> -1460.3</td> \n",
              "</tr>\n",
              "<tr>\n",
              "  <th>Covariance Type:</th>     <td>nonrobust</td>    <th>  LLR p-value:       </th> <td>4.541e-292</td>\n",
              "</tr>\n",
              "</table>\n",
              "<table class=\"simpletable\">\n",
              "<tr>\n",
              "      <td></td>         <th>coef</th>     <th>std err</th>      <th>z</th>      <th>P>|z|</th>  <th>[0.025</th>    <th>0.975]</th>  \n",
              "</tr>\n",
              "<tr>\n",
              "  <th>Intercept</th> <td>  -11.5405</td> <td>    0.435</td> <td>  -26.544</td> <td> 0.000</td> <td>  -12.393</td> <td>  -10.688</td>\n",
              "</tr>\n",
              "<tr>\n",
              "  <th>balance</th>   <td>    0.0056</td> <td>    0.000</td> <td>   24.835</td> <td> 0.000</td> <td>    0.005</td> <td>    0.006</td>\n",
              "</tr>\n",
              "<tr>\n",
              "  <th>income</th>    <td> 2.081e-05</td> <td> 4.99e-06</td> <td>    4.174</td> <td> 0.000</td> <td>  1.1e-05</td> <td> 3.06e-05</td>\n",
              "</tr>\n",
              "</table><br/><br/>Possibly complete quasi-separation: A fraction 0.14 of observations can be<br/>perfectly predicted. This might indicate that there is complete<br/>quasi-separation. In this case some parameters will not be identified."
            ],
            "text/plain": [
              "<class 'statsmodels.iolib.summary.Summary'>\n",
              "\"\"\"\n",
              "                           Logit Regression Results                           \n",
              "==============================================================================\n",
              "Dep. Variable:            default_yes   No. Observations:                10000\n",
              "Model:                          Logit   Df Residuals:                     9997\n",
              "Method:                           MLE   Df Model:                            2\n",
              "Date:                Sun, 05 Sep 2021   Pseudo R-squ.:                  0.4594\n",
              "Time:                        15:43:27   Log-Likelihood:                -789.48\n",
              "converged:                       True   LL-Null:                       -1460.3\n",
              "Covariance Type:            nonrobust   LLR p-value:                4.541e-292\n",
              "==============================================================================\n",
              "                 coef    std err          z      P>|z|      [0.025      0.975]\n",
              "------------------------------------------------------------------------------\n",
              "Intercept    -11.5405      0.435    -26.544      0.000     -12.393     -10.688\n",
              "balance        0.0056      0.000     24.835      0.000       0.005       0.006\n",
              "income      2.081e-05   4.99e-06      4.174      0.000     1.1e-05    3.06e-05\n",
              "==============================================================================\n",
              "\n",
              "Possibly complete quasi-separation: A fraction 0.14 of observations can be\n",
              "perfectly predicted. This might indicate that there is complete\n",
              "quasi-separation. In this case some parameters will not be identified.\n",
              "\"\"\""
            ]
          },
          "metadata": {},
          "execution_count": 10
        }
      ]
    },
    {
      "cell_type": "markdown",
      "metadata": {
        "id": "yO4HJKr2oTvl"
      },
      "source": [
        "Error without validation set\n",
        "\n",
        "This is an in-sample prediction. Training error in both sklearn and statsmodels. Both are equivalent. "
      ]
    },
    {
      "cell_type": "code",
      "metadata": {
        "colab": {
          "base_uri": "https://localhost:8080/"
        },
        "id": "GHO8mnwNoZaU",
        "outputId": "9df0f178-8de9-4d2b-a9cd-b5b9d04cd4b6"
      },
      "source": [
        "(model.predict(X) == y).mean()"
      ],
      "execution_count": 11,
      "outputs": [
        {
          "output_type": "execute_result",
          "data": {
            "text/plain": [
              "0.9737"
            ]
          },
          "metadata": {},
          "execution_count": 11
        }
      ]
    },
    {
      "cell_type": "code",
      "metadata": {
        "colab": {
          "base_uri": "https://localhost:8080/"
        },
        "id": "aaeJMRbUodO6",
        "outputId": "14c5618d-c0ea-4cde-9602-44987e95302f"
      },
      "source": [
        "((result.predict(X) > .5)*1 == y).mean()"
      ],
      "execution_count": 12,
      "outputs": [
        {
          "output_type": "execute_result",
          "data": {
            "text/plain": [
              "0.9737"
            ]
          },
          "metadata": {},
          "execution_count": 12
        }
      ]
    },
    {
      "cell_type": "markdown",
      "metadata": {
        "id": "aLM4XRhcop7l"
      },
      "source": [
        "b. Using the validation set approach, estimate the test error of this model. In order to do this, you must perform the following steps:\n",
        "\n",
        "i. Split the sample set into a training set and a validation set. \n",
        "\n",
        "ii. Fit a multiple logistic regression model using only the training observations. \n",
        "\n",
        "iii. Obtain a prediction of default status for each individual in the validation set by computing the posterior probability of default for that individual, and classifying the individual to the `default` category if the posterior probability is greater than 0.5. \n",
        "\n",
        "iv. Compute the validation set error, which is the fraction of the observations in the validation set that are misclassified. "
      ]
    },
    {
      "cell_type": "code",
      "metadata": {
        "id": "-SG2HM91pKWV"
      },
      "source": [
        "X_train, X_test, y_train, y_test = train_test_split(X,y)"
      ],
      "execution_count": 13,
      "outputs": []
    },
    {
      "cell_type": "code",
      "metadata": {
        "colab": {
          "base_uri": "https://localhost:8080/"
        },
        "id": "J5n5mlMnpP1V",
        "outputId": "1bca2767-c7e6-4893-8e6e-cdb38f29e327"
      },
      "source": [
        "model = LogisticRegression(C=100000, tol=0.0000001)\n",
        "model.fit(X_train, y_train)\n",
        "model.intercept_, model.coef_"
      ],
      "execution_count": 14,
      "outputs": [
        {
          "output_type": "execute_result",
          "data": {
            "text/plain": [
              "(array([-11.51405382]), array([[5.60596598e-03, 2.22188422e-05]]))"
            ]
          },
          "metadata": {},
          "execution_count": 14
        }
      ]
    },
    {
      "cell_type": "code",
      "metadata": {
        "id": "aEjxeROqpZSm"
      },
      "source": [
        "X_train_sm = X_train.join(y_train)"
      ],
      "execution_count": 15,
      "outputs": []
    },
    {
      "cell_type": "code",
      "metadata": {
        "colab": {
          "base_uri": "https://localhost:8080/",
          "height": 405
        },
        "id": "u9OxHE1NpdJe",
        "outputId": "b8c5af4a-cb2d-4770-8e1a-374aa12bc99b"
      },
      "source": [
        "result = smf.logit(formula = 'default_yes ~ balance + income', data=X_train_sm).fit()\n",
        "result.summary()"
      ],
      "execution_count": 16,
      "outputs": [
        {
          "output_type": "stream",
          "name": "stdout",
          "text": [
            "Optimization terminated successfully.\n",
            "         Current function value: 0.080650\n",
            "         Iterations 10\n"
          ]
        },
        {
          "output_type": "execute_result",
          "data": {
            "text/html": [
              "<table class=\"simpletable\">\n",
              "<caption>Logit Regression Results</caption>\n",
              "<tr>\n",
              "  <th>Dep. Variable:</th>      <td>default_yes</td>   <th>  No. Observations:  </th>   <td>  7500</td>  \n",
              "</tr>\n",
              "<tr>\n",
              "  <th>Model:</th>                 <td>Logit</td>      <th>  Df Residuals:      </th>   <td>  7497</td>  \n",
              "</tr>\n",
              "<tr>\n",
              "  <th>Method:</th>                 <td>MLE</td>       <th>  Df Model:          </th>   <td>     2</td>  \n",
              "</tr>\n",
              "<tr>\n",
              "  <th>Date:</th>            <td>Sun, 05 Sep 2021</td> <th>  Pseudo R-squ.:     </th>   <td>0.4581</td>  \n",
              "</tr>\n",
              "<tr>\n",
              "  <th>Time:</th>                <td>15:49:20</td>     <th>  Log-Likelihood:    </th>  <td> -604.87</td> \n",
              "</tr>\n",
              "<tr>\n",
              "  <th>converged:</th>             <td>True</td>       <th>  LL-Null:           </th>  <td> -1116.2</td> \n",
              "</tr>\n",
              "<tr>\n",
              "  <th>Covariance Type:</th>     <td>nonrobust</td>    <th>  LLR p-value:       </th> <td>8.459e-223</td>\n",
              "</tr>\n",
              "</table>\n",
              "<table class=\"simpletable\">\n",
              "<tr>\n",
              "      <td></td>         <th>coef</th>     <th>std err</th>      <th>z</th>      <th>P>|z|</th>  <th>[0.025</th>    <th>0.975]</th>  \n",
              "</tr>\n",
              "<tr>\n",
              "  <th>Intercept</th> <td>  -11.5141</td> <td>    0.495</td> <td>  -23.260</td> <td> 0.000</td> <td>  -12.484</td> <td>  -10.544</td>\n",
              "</tr>\n",
              "<tr>\n",
              "  <th>balance</th>   <td>    0.0056</td> <td>    0.000</td> <td>   21.764</td> <td> 0.000</td> <td>    0.005</td> <td>    0.006</td>\n",
              "</tr>\n",
              "<tr>\n",
              "  <th>income</th>    <td> 2.222e-05</td> <td>  5.7e-06</td> <td>    3.897</td> <td> 0.000</td> <td>  1.1e-05</td> <td> 3.34e-05</td>\n",
              "</tr>\n",
              "</table><br/><br/>Possibly complete quasi-separation: A fraction 0.13 of observations can be<br/>perfectly predicted. This might indicate that there is complete<br/>quasi-separation. In this case some parameters will not be identified."
            ],
            "text/plain": [
              "<class 'statsmodels.iolib.summary.Summary'>\n",
              "\"\"\"\n",
              "                           Logit Regression Results                           \n",
              "==============================================================================\n",
              "Dep. Variable:            default_yes   No. Observations:                 7500\n",
              "Model:                          Logit   Df Residuals:                     7497\n",
              "Method:                           MLE   Df Model:                            2\n",
              "Date:                Sun, 05 Sep 2021   Pseudo R-squ.:                  0.4581\n",
              "Time:                        15:49:20   Log-Likelihood:                -604.87\n",
              "converged:                       True   LL-Null:                       -1116.2\n",
              "Covariance Type:            nonrobust   LLR p-value:                8.459e-223\n",
              "==============================================================================\n",
              "                 coef    std err          z      P>|z|      [0.025      0.975]\n",
              "------------------------------------------------------------------------------\n",
              "Intercept    -11.5141      0.495    -23.260      0.000     -12.484     -10.544\n",
              "balance        0.0056      0.000     21.764      0.000       0.005       0.006\n",
              "income      2.222e-05    5.7e-06      3.897      0.000     1.1e-05    3.34e-05\n",
              "==============================================================================\n",
              "\n",
              "Possibly complete quasi-separation: A fraction 0.13 of observations can be\n",
              "perfectly predicted. This might indicate that there is complete\n",
              "quasi-separation. In this case some parameters will not be identified.\n",
              "\"\"\""
            ]
          },
          "metadata": {},
          "execution_count": 16
        }
      ]
    },
    {
      "cell_type": "code",
      "metadata": {
        "colab": {
          "base_uri": "https://localhost:8080/"
        },
        "id": "3ZMPh-dXpp-f",
        "outputId": "c5e32a1c-1f38-4544-c864-5ed151b3e792"
      },
      "source": [
        "# Nearly the same as the training set. So not too much over fitting \n",
        "# has happened\n",
        "(model.predict(X_test) == y_test).mean(), ((result.predict(X_test) > 0.5)*1 == y_test).mean()"
      ],
      "execution_count": 17,
      "outputs": [
        {
          "output_type": "execute_result",
          "data": {
            "text/plain": [
              "(0.9752, 0.9752)"
            ]
          },
          "metadata": {},
          "execution_count": 17
        }
      ]
    },
    {
      "cell_type": "markdown",
      "metadata": {
        "id": "8hf58wO0p5Fu"
      },
      "source": [
        "Validation error is only 0.272. "
      ]
    },
    {
      "cell_type": "markdown",
      "metadata": {
        "id": "rnDSbiDEp-Cb"
      },
      "source": [
        "c. Repeat the process in (b) three times, using three different splits of the observations into a training set and a validation set. Comment on the results obtained. "
      ]
    },
    {
      "cell_type": "code",
      "metadata": {
        "colab": {
          "base_uri": "https://localhost:8080/"
        },
        "id": "jn4xFosEqGjB",
        "outputId": "19c27264-df30-44a1-c771-b6836f28d38a"
      },
      "source": [
        "model = LogisticRegression(C=100000, tol=.0000001)\n",
        "\n",
        "for i in range(3):\n",
        "  X_train, X_test, y_train, y_test = train_test_split(X,y)\n",
        "  model.fit(X_train, y_train)\n",
        "\n",
        "  X_train_sm = X_train.join(y_train)\n",
        "  result = smf.logit(formula='default_yes ~ balance + income', data=X_train_sm).fit()\n",
        "  print((model.predict(X_test) == y_test).mean(), ((result.predict(X_test) > 0.5)*1 == y_test).mean())"
      ],
      "execution_count": 18,
      "outputs": [
        {
          "output_type": "stream",
          "name": "stdout",
          "text": [
            "Optimization terminated successfully.\n",
            "         Current function value: 0.077908\n",
            "         Iterations 10\n",
            "0.9712 0.9712\n",
            "Optimization terminated successfully.\n",
            "         Current function value: 0.082171\n",
            "         Iterations 10\n",
            "0.972 0.9808\n",
            "Optimization terminated successfully.\n",
            "         Current function value: 0.080580\n",
            "         Iterations 10\n",
            "0.9672 0.9728\n"
          ]
        }
      ]
    },
    {
      "cell_type": "markdown",
      "metadata": {
        "id": "tHqwLWMGqtdY"
      },
      "source": [
        "d. Now consider a logistic regression model that predicts the probability of `default` using `income`, `balance`, and a dummy variable for `student`. Estimate the test error for this model using the validation set approach. Comment on whether or not including a dummy variable for `student` leads to a reduction in the test error rate. "
      ]
    },
    {
      "cell_type": "code",
      "metadata": {
        "colab": {
          "base_uri": "https://localhost:8080/"
        },
        "id": "paInt_A1rlGa",
        "outputId": "c8de0133-e919-43e8-80b9-b99545bce258"
      },
      "source": [
        "X = default[['balance', 'income', 'student_yes']]\n",
        "y = default['default_yes']\n",
        "\n",
        "model = LogisticRegression(C=100000, tol=.0000001)\n",
        "\n",
        "for i in range(3):\n",
        "  X_train, X_test, y_train, y_test = train_test_split(X,y)\n",
        "  model.fit(X_train, y_train)\n",
        "\n",
        "  X_train_sm = X_train.join(y_train)\n",
        "  result = smf.logit(formula='default_yes ~ balance + income + student_yes', data = X_train_sm).fit()\n",
        "  print((model.predict(X_test) == y_test).mean(), ((result.predict(X_test) > 0.5)*1 == y_test).mean())"
      ],
      "execution_count": 24,
      "outputs": [
        {
          "output_type": "stream",
          "name": "stdout",
          "text": [
            "Optimization terminated successfully.\n",
            "         Current function value: 0.081403\n",
            "         Iterations 10\n",
            "0.972 0.9768\n",
            "Optimization terminated successfully.\n",
            "         Current function value: 0.080568\n",
            "         Iterations 10\n",
            "0.9676 0.974\n",
            "Optimization terminated successfully.\n",
            "         Current function value: 0.078957\n",
            "         Iterations 10\n",
            "0.9668 0.9728\n"
          ]
        }
      ]
    },
    {
      "cell_type": "markdown",
      "metadata": {
        "id": "JFv7hs3Os58P"
      },
      "source": [
        "Looks like the error rate is very similiar. "
      ]
    },
    {
      "cell_type": "markdown",
      "metadata": {
        "id": "EticJGuGs8bF"
      },
      "source": [
        "2. We continue to consider the use of logistic regression model to predict the probability of `default` using `income` and `balance` on the `Default` dataset. In particular, we will now compute estimates for the standard errors of the `income` and `balance` logistic regression coefficients using two different ways: (1) using the bootstrap, and (2) using the standard formula for computing the standard errors in the logistic regression function. "
      ]
    },
    {
      "cell_type": "code",
      "metadata": {
        "colab": {
          "base_uri": "https://localhost:8080/",
          "height": 405
        },
        "id": "3xp4Sxj_986j",
        "outputId": "b7f03689-d0f9-4e42-f3ff-aa41d32aea5a"
      },
      "source": [
        "# Computing standard errors of coefficients of logistic regression \n",
        "# using bootstrap\n",
        "\n",
        "result = smf.logit(formula='default_yes ~ balance + income', data=default).fit()\n",
        "result.summary()"
      ],
      "execution_count": 25,
      "outputs": [
        {
          "output_type": "stream",
          "name": "stdout",
          "text": [
            "Optimization terminated successfully.\n",
            "         Current function value: 0.078948\n",
            "         Iterations 10\n"
          ]
        },
        {
          "output_type": "execute_result",
          "data": {
            "text/html": [
              "<table class=\"simpletable\">\n",
              "<caption>Logit Regression Results</caption>\n",
              "<tr>\n",
              "  <th>Dep. Variable:</th>      <td>default_yes</td>   <th>  No. Observations:  </th>   <td> 10000</td>  \n",
              "</tr>\n",
              "<tr>\n",
              "  <th>Model:</th>                 <td>Logit</td>      <th>  Df Residuals:      </th>   <td>  9997</td>  \n",
              "</tr>\n",
              "<tr>\n",
              "  <th>Method:</th>                 <td>MLE</td>       <th>  Df Model:          </th>   <td>     2</td>  \n",
              "</tr>\n",
              "<tr>\n",
              "  <th>Date:</th>            <td>Sun, 05 Sep 2021</td> <th>  Pseudo R-squ.:     </th>   <td>0.4594</td>  \n",
              "</tr>\n",
              "<tr>\n",
              "  <th>Time:</th>                <td>17:19:05</td>     <th>  Log-Likelihood:    </th>  <td> -789.48</td> \n",
              "</tr>\n",
              "<tr>\n",
              "  <th>converged:</th>             <td>True</td>       <th>  LL-Null:           </th>  <td> -1460.3</td> \n",
              "</tr>\n",
              "<tr>\n",
              "  <th>Covariance Type:</th>     <td>nonrobust</td>    <th>  LLR p-value:       </th> <td>4.541e-292</td>\n",
              "</tr>\n",
              "</table>\n",
              "<table class=\"simpletable\">\n",
              "<tr>\n",
              "      <td></td>         <th>coef</th>     <th>std err</th>      <th>z</th>      <th>P>|z|</th>  <th>[0.025</th>    <th>0.975]</th>  \n",
              "</tr>\n",
              "<tr>\n",
              "  <th>Intercept</th> <td>  -11.5405</td> <td>    0.435</td> <td>  -26.544</td> <td> 0.000</td> <td>  -12.393</td> <td>  -10.688</td>\n",
              "</tr>\n",
              "<tr>\n",
              "  <th>balance</th>   <td>    0.0056</td> <td>    0.000</td> <td>   24.835</td> <td> 0.000</td> <td>    0.005</td> <td>    0.006</td>\n",
              "</tr>\n",
              "<tr>\n",
              "  <th>income</th>    <td> 2.081e-05</td> <td> 4.99e-06</td> <td>    4.174</td> <td> 0.000</td> <td>  1.1e-05</td> <td> 3.06e-05</td>\n",
              "</tr>\n",
              "</table><br/><br/>Possibly complete quasi-separation: A fraction 0.14 of observations can be<br/>perfectly predicted. This might indicate that there is complete<br/>quasi-separation. In this case some parameters will not be identified."
            ],
            "text/plain": [
              "<class 'statsmodels.iolib.summary.Summary'>\n",
              "\"\"\"\n",
              "                           Logit Regression Results                           \n",
              "==============================================================================\n",
              "Dep. Variable:            default_yes   No. Observations:                10000\n",
              "Model:                          Logit   Df Residuals:                     9997\n",
              "Method:                           MLE   Df Model:                            2\n",
              "Date:                Sun, 05 Sep 2021   Pseudo R-squ.:                  0.4594\n",
              "Time:                        17:19:05   Log-Likelihood:                -789.48\n",
              "converged:                       True   LL-Null:                       -1460.3\n",
              "Covariance Type:            nonrobust   LLR p-value:                4.541e-292\n",
              "==============================================================================\n",
              "                 coef    std err          z      P>|z|      [0.025      0.975]\n",
              "------------------------------------------------------------------------------\n",
              "Intercept    -11.5405      0.435    -26.544      0.000     -12.393     -10.688\n",
              "balance        0.0056      0.000     24.835      0.000       0.005       0.006\n",
              "income      2.081e-05   4.99e-06      4.174      0.000     1.1e-05    3.06e-05\n",
              "==============================================================================\n",
              "\n",
              "Possibly complete quasi-separation: A fraction 0.14 of observations can be\n",
              "perfectly predicted. This might indicate that there is complete\n",
              "quasi-separation. In this case some parameters will not be identified.\n",
              "\"\"\""
            ]
          },
          "metadata": {},
          "execution_count": 25
        }
      ]
    },
    {
      "cell_type": "code",
      "metadata": {
        "id": "ZanZrYfL-KR9"
      },
      "source": [
        "df_params = pd.DataFrame(columns=['Intercept', 'balance', 'income'])\n",
        "for i in range(100):\n",
        "  default_sample = default.sample(len(default), replace=True)\n",
        "  result_sample = smf.logit(formula = 'default_yes ~ balance + income', data=default_sample).fit(disp=0)\n",
        "  df_params = df_params.append(result_sample.params, ignore_index=True)"
      ],
      "execution_count": 26,
      "outputs": []
    },
    {
      "cell_type": "code",
      "metadata": {
        "colab": {
          "base_uri": "https://localhost:8080/"
        },
        "id": "s0k5q-Xn_GCS",
        "outputId": "b1a5d4f2-c71c-4bdb-88a5-5b9d4c914d91"
      },
      "source": [
        "# bootstrap parameters and standard error\n",
        "df_params.mean(), df_params.std()"
      ],
      "execution_count": 27,
      "outputs": [
        {
          "output_type": "execute_result",
          "data": {
            "text/plain": [
              "(Intercept   -11.533420\n",
              " balance       0.005628\n",
              " income        0.000021\n",
              " dtype: float64, Intercept    0.416407\n",
              " balance      0.000215\n",
              " income       0.000005\n",
              " dtype: float64)"
            ]
          },
          "metadata": {},
          "execution_count": 27
        }
      ]
    },
    {
      "cell_type": "code",
      "metadata": {
        "colab": {
          "base_uri": "https://localhost:8080/"
        },
        "id": "Hu5a_SmV_NUb",
        "outputId": "c5f0b5e5-db77-4643-8c55-e26d587f98a6"
      },
      "source": [
        "# Model parameters and standard error\n",
        "result.params, result.bse"
      ],
      "execution_count": 28,
      "outputs": [
        {
          "output_type": "execute_result",
          "data": {
            "text/plain": [
              "(Intercept   -11.540468\n",
              " balance       0.005647\n",
              " income        0.000021\n",
              " dtype: float64, Intercept    0.434772\n",
              " balance      0.000227\n",
              " income       0.000005\n",
              " dtype: float64)"
            ]
          },
          "metadata": {},
          "execution_count": 28
        }
      ]
    },
    {
      "cell_type": "markdown",
      "metadata": {
        "id": "ksoMAgV-_S5r"
      },
      "source": [
        "Standard errors are a wee bit lower in bootstrap"
      ]
    },
    {
      "cell_type": "markdown",
      "metadata": {
        "id": "exrwaPVA_aAB"
      },
      "source": [
        "3. Compute the LOOCV error for a simple logistic regression model on the `Eekly` dataset. \n",
        "\n",
        "A. Fit a logistic regression model that predicts `Direction` using `Lag1` and `Lag2`. "
      ]
    },
    {
      "cell_type": "code",
      "metadata": {
        "id": "5sjA6ubn_ura"
      },
      "source": [
        "weekly = pd.read_csv('https://raw.githubusercontent.com/emredjan/ISL-python/master/datasets/Weekly.csv')"
      ],
      "execution_count": 29,
      "outputs": []
    },
    {
      "cell_type": "code",
      "metadata": {
        "id": "VadHkswO_4xL"
      },
      "source": [
        "weekly['Direction_Up'] = (weekly['Direction'] == 'Up').astype(int)"
      ],
      "execution_count": 30,
      "outputs": []
    },
    {
      "cell_type": "code",
      "metadata": {
        "colab": {
          "base_uri": "https://localhost:8080/",
          "height": 204
        },
        "id": "OeNV101OAAHb",
        "outputId": "21618581-e6cc-4080-9549-a691ca31630a"
      },
      "source": [
        "weekly.head()"
      ],
      "execution_count": 31,
      "outputs": [
        {
          "output_type": "execute_result",
          "data": {
            "text/html": [
              "<div>\n",
              "<style scoped>\n",
              "    .dataframe tbody tr th:only-of-type {\n",
              "        vertical-align: middle;\n",
              "    }\n",
              "\n",
              "    .dataframe tbody tr th {\n",
              "        vertical-align: top;\n",
              "    }\n",
              "\n",
              "    .dataframe thead th {\n",
              "        text-align: right;\n",
              "    }\n",
              "</style>\n",
              "<table border=\"1\" class=\"dataframe\">\n",
              "  <thead>\n",
              "    <tr style=\"text-align: right;\">\n",
              "      <th></th>\n",
              "      <th>Unnamed: 0</th>\n",
              "      <th>Year</th>\n",
              "      <th>Lag1</th>\n",
              "      <th>Lag2</th>\n",
              "      <th>Lag3</th>\n",
              "      <th>Lag4</th>\n",
              "      <th>Lag5</th>\n",
              "      <th>Volume</th>\n",
              "      <th>Today</th>\n",
              "      <th>Direction</th>\n",
              "      <th>Direction_Up</th>\n",
              "    </tr>\n",
              "  </thead>\n",
              "  <tbody>\n",
              "    <tr>\n",
              "      <th>0</th>\n",
              "      <td>1</td>\n",
              "      <td>1990</td>\n",
              "      <td>0.816</td>\n",
              "      <td>1.572</td>\n",
              "      <td>-3.936</td>\n",
              "      <td>-0.229</td>\n",
              "      <td>-3.484</td>\n",
              "      <td>0.154976</td>\n",
              "      <td>-0.270</td>\n",
              "      <td>Down</td>\n",
              "      <td>0</td>\n",
              "    </tr>\n",
              "    <tr>\n",
              "      <th>1</th>\n",
              "      <td>2</td>\n",
              "      <td>1990</td>\n",
              "      <td>-0.270</td>\n",
              "      <td>0.816</td>\n",
              "      <td>1.572</td>\n",
              "      <td>-3.936</td>\n",
              "      <td>-0.229</td>\n",
              "      <td>0.148574</td>\n",
              "      <td>-2.576</td>\n",
              "      <td>Down</td>\n",
              "      <td>0</td>\n",
              "    </tr>\n",
              "    <tr>\n",
              "      <th>2</th>\n",
              "      <td>3</td>\n",
              "      <td>1990</td>\n",
              "      <td>-2.576</td>\n",
              "      <td>-0.270</td>\n",
              "      <td>0.816</td>\n",
              "      <td>1.572</td>\n",
              "      <td>-3.936</td>\n",
              "      <td>0.159837</td>\n",
              "      <td>3.514</td>\n",
              "      <td>Up</td>\n",
              "      <td>1</td>\n",
              "    </tr>\n",
              "    <tr>\n",
              "      <th>3</th>\n",
              "      <td>4</td>\n",
              "      <td>1990</td>\n",
              "      <td>3.514</td>\n",
              "      <td>-2.576</td>\n",
              "      <td>-0.270</td>\n",
              "      <td>0.816</td>\n",
              "      <td>1.572</td>\n",
              "      <td>0.161630</td>\n",
              "      <td>0.712</td>\n",
              "      <td>Up</td>\n",
              "      <td>1</td>\n",
              "    </tr>\n",
              "    <tr>\n",
              "      <th>4</th>\n",
              "      <td>5</td>\n",
              "      <td>1990</td>\n",
              "      <td>0.712</td>\n",
              "      <td>3.514</td>\n",
              "      <td>-2.576</td>\n",
              "      <td>-0.270</td>\n",
              "      <td>0.816</td>\n",
              "      <td>0.153728</td>\n",
              "      <td>1.178</td>\n",
              "      <td>Up</td>\n",
              "      <td>1</td>\n",
              "    </tr>\n",
              "  </tbody>\n",
              "</table>\n",
              "</div>"
            ],
            "text/plain": [
              "   Unnamed: 0  Year   Lag1   Lag2  ...    Volume  Today  Direction  Direction_Up\n",
              "0           1  1990  0.816  1.572  ...  0.154976 -0.270       Down             0\n",
              "1           2  1990 -0.270  0.816  ...  0.148574 -2.576       Down             0\n",
              "2           3  1990 -2.576 -0.270  ...  0.159837  3.514         Up             1\n",
              "3           4  1990  3.514 -2.576  ...  0.161630  0.712         Up             1\n",
              "4           5  1990  0.712  3.514  ...  0.153728  1.178         Up             1\n",
              "\n",
              "[5 rows x 11 columns]"
            ]
          },
          "metadata": {},
          "execution_count": 31
        }
      ]
    },
    {
      "cell_type": "code",
      "metadata": {
        "id": "Woa8FQ1iACgQ"
      },
      "source": [
        "X = weekly[['Lag1', 'Lag2']]\n",
        "y = weekly['Direction_Up']"
      ],
      "execution_count": 32,
      "outputs": []
    },
    {
      "cell_type": "code",
      "metadata": {
        "colab": {
          "base_uri": "https://localhost:8080/"
        },
        "id": "_iTbE9pfAJT0",
        "outputId": "a2e7405c-c46e-4709-e354-43d4fc7ba248"
      },
      "source": [
        "model = LogisticRegression(C=100000, tol=.0000001)\n",
        "model.fit(X,y)"
      ],
      "execution_count": 33,
      "outputs": [
        {
          "output_type": "execute_result",
          "data": {
            "text/plain": [
              "LogisticRegression(C=100000, class_weight=None, dual=False, fit_intercept=True,\n",
              "                   intercept_scaling=1, l1_ratio=None, max_iter=100,\n",
              "                   multi_class='auto', n_jobs=None, penalty='l2',\n",
              "                   random_state=None, solver='lbfgs', tol=1e-07, verbose=0,\n",
              "                   warm_start=False)"
            ]
          },
          "metadata": {},
          "execution_count": 33
        }
      ]
    },
    {
      "cell_type": "code",
      "metadata": {
        "colab": {
          "base_uri": "https://localhost:8080/"
        },
        "id": "UbCH_tH6ATyk",
        "outputId": "6e31f833-da3f-4e80-ea9c-70a5e02125e1"
      },
      "source": [
        "model.intercept_, model.coef_"
      ],
      "execution_count": 34,
      "outputs": [
        {
          "output_type": "execute_result",
          "data": {
            "text/plain": [
              "(array([0.22122405]), array([[-0.03872222,  0.0602483 ]]))"
            ]
          },
          "metadata": {},
          "execution_count": 34
        }
      ]
    },
    {
      "cell_type": "code",
      "metadata": {
        "colab": {
          "base_uri": "https://localhost:8080/"
        },
        "id": "4ia6hlo8AX5O",
        "outputId": "836a643b-95ae-4461-f012-74471cbd1443"
      },
      "source": [
        "# Accuracy\n",
        "(model.predict(X) == y).mean()"
      ],
      "execution_count": 35,
      "outputs": [
        {
          "output_type": "execute_result",
          "data": {
            "text/plain": [
              "0.5555555555555556"
            ]
          },
          "metadata": {},
          "execution_count": 35
        }
      ]
    },
    {
      "cell_type": "markdown",
      "metadata": {
        "id": "bTiQbEQhAe8q"
      },
      "source": [
        "B. Fit a logistic regression model that predicts `Direction` using `Lag1` and `Lag2` using all but the first observation. "
      ]
    },
    {
      "cell_type": "code",
      "metadata": {
        "colab": {
          "base_uri": "https://localhost:8080/"
        },
        "id": "6ERbT6qsApNW",
        "outputId": "beeb0ab3-ce80-4cbd-bee2-61141ab195d5"
      },
      "source": [
        "# Model is different, but nearly identical\n",
        "model.fit(X.iloc[1:], y.iloc[1:])\n",
        "model.intercept_, model.coef_, (model.predict(X) == y).mean()"
      ],
      "execution_count": 36,
      "outputs": [
        {
          "output_type": "execute_result",
          "data": {
            "text/plain": [
              "(array([0.22324305]), array([[-0.03843317,  0.06084763]]), 0.5564738292011019)"
            ]
          },
          "metadata": {},
          "execution_count": 36
        }
      ]
    },
    {
      "cell_type": "markdown",
      "metadata": {
        "id": "fMOxxgSyA2GH"
      },
      "source": [
        "C. using the model from (b) to predict the direction of the first observation. You can do this by predicting that the first observation will go up if P(Direction=\"Up\"|Lag1, Lag2) > 0.5. Was this observation correctly classified?"
      ]
    },
    {
      "cell_type": "code",
      "metadata": {
        "colab": {
          "base_uri": "https://localhost:8080/"
        },
        "id": "VN-07YHLA1t6",
        "outputId": "ab81b35e-2510-4a86-972e-b69ae68a08e9"
      },
      "source": [
        "# Wrong prediction \n",
        "model.predict([X.iloc[0]]), y[0]"
      ],
      "execution_count": 37,
      "outputs": [
        {
          "output_type": "execute_result",
          "data": {
            "text/plain": [
              "(array([1]), 0)"
            ]
          },
          "metadata": {},
          "execution_count": 37
        }
      ]
    },
    {
      "cell_type": "markdown",
      "metadata": {
        "id": "uSc0wuywBOYZ"
      },
      "source": [
        "D. Write a for loop from i = 1 to i = n, where n is the number of observations in the dataset, that performs each of the following steps:\n",
        "\n",
        "i. Fit a logistic regression model using all but the ith observation to predict `Direction` using `Lag1` and `Lag2`. \n",
        "\n",
        "ii. Compute the posterior probability of the market moving up for the ith observation. \n",
        "\n",
        "iii. Use the posterior probability for the ith observation in order to predict whether or not the market moves up. \n",
        "\n",
        "iv. Determine whether or note an error was made in predicting the direction for the ith observation. If an error was made, then indicate this as a 1, and otherwise indicate it as a 0. "
      ]
    },
    {
      "cell_type": "code",
      "metadata": {
        "id": "o_SeXOo3BsCA"
      },
      "source": [
        "np.random.seed(1)\n",
        "x = np.random.randn(100)\n",
        "e = np.random.randn(100)\n",
        "y = x - 1*x**2 + e"
      ],
      "execution_count": 38,
      "outputs": []
    },
    {
      "cell_type": "code",
      "metadata": {
        "colab": {
          "base_uri": "https://localhost:8080/"
        },
        "id": "6aIF4lFvB4Pp",
        "outputId": "ba962061-8b72-4a10-8ee3-3d36d90e96f2"
      },
      "source": [
        "y.shape"
      ],
      "execution_count": 39,
      "outputs": [
        {
          "output_type": "execute_result",
          "data": {
            "text/plain": [
              "(100,)"
            ]
          },
          "metadata": {},
          "execution_count": 39
        }
      ]
    },
    {
      "cell_type": "code",
      "metadata": {
        "colab": {
          "base_uri": "https://localhost:8080/",
          "height": 282
        },
        "id": "o51kj2R4B5pU",
        "outputId": "9476fd22-caaa-42fa-bae7-cf2c5119e3a2"
      },
      "source": [
        "plt.scatter(x,y)"
      ],
      "execution_count": 40,
      "outputs": [
        {
          "output_type": "execute_result",
          "data": {
            "text/plain": [
              "<matplotlib.collections.PathCollection at 0x7f7979aa6550>"
            ]
          },
          "metadata": {},
          "execution_count": 40
        },
        {
          "output_type": "display_data",
          "data": {
            "image/png": "[encoded data removed]",
            "text/plain": [
              "<Figure size 432x288 with 1 Axes>"
            ]
          },
          "metadata": {
            "needs_background": "light"
          }
        }
      ]
    },
    {
      "cell_type": "code",
      "metadata": {
        "colab": {
          "base_uri": "https://localhost:8080/",
          "height": 204
        },
        "id": "mqvbNUs2B976",
        "outputId": "ef0f7351-e245-47c5-cb77-0a5d4bf8a687"
      },
      "source": [
        "df = pd.DataFrame(np.array([np.ones(len(x)), x, x**2, x**3, x**4, y]).T, columns=['b0', 'x', 'x2', 'x3', 'x4', 'y'])\n",
        "df.head()"
      ],
      "execution_count": 42,
      "outputs": [
        {
          "output_type": "execute_result",
          "data": {
            "text/html": [
              "<div>\n",
              "<style scoped>\n",
              "    .dataframe tbody tr th:only-of-type {\n",
              "        vertical-align: middle;\n",
              "    }\n",
              "\n",
              "    .dataframe tbody tr th {\n",
              "        vertical-align: top;\n",
              "    }\n",
              "\n",
              "    .dataframe thead th {\n",
              "        text-align: right;\n",
              "    }\n",
              "</style>\n",
              "<table border=\"1\" class=\"dataframe\">\n",
              "  <thead>\n",
              "    <tr style=\"text-align: right;\">\n",
              "      <th></th>\n",
              "      <th>b0</th>\n",
              "      <th>x</th>\n",
              "      <th>x2</th>\n",
              "      <th>x3</th>\n",
              "      <th>x4</th>\n",
              "      <th>y</th>\n",
              "    </tr>\n",
              "  </thead>\n",
              "  <tbody>\n",
              "    <tr>\n",
              "      <th>0</th>\n",
              "      <td>1.0</td>\n",
              "      <td>1.624345</td>\n",
              "      <td>2.638498</td>\n",
              "      <td>4.285832</td>\n",
              "      <td>6.961671</td>\n",
              "      <td>-1.461281</td>\n",
              "    </tr>\n",
              "    <tr>\n",
              "      <th>1</th>\n",
              "      <td>1.0</td>\n",
              "      <td>-0.611756</td>\n",
              "      <td>0.374246</td>\n",
              "      <td>-0.228947</td>\n",
              "      <td>0.140060</td>\n",
              "      <td>0.238505</td>\n",
              "    </tr>\n",
              "    <tr>\n",
              "      <th>2</th>\n",
              "      <td>1.0</td>\n",
              "      <td>-0.528172</td>\n",
              "      <td>0.278965</td>\n",
              "      <td>-0.147342</td>\n",
              "      <td>0.077822</td>\n",
              "      <td>-0.403646</td>\n",
              "    </tr>\n",
              "    <tr>\n",
              "      <th>3</th>\n",
              "      <td>1.0</td>\n",
              "      <td>-1.072969</td>\n",
              "      <td>1.151262</td>\n",
              "      <td>-1.235268</td>\n",
              "      <td>1.325403</td>\n",
              "      <td>-1.630652</td>\n",
              "    </tr>\n",
              "    <tr>\n",
              "      <th>4</th>\n",
              "      <td>1.0</td>\n",
              "      <td>0.865408</td>\n",
              "      <td>0.748930</td>\n",
              "      <td>0.648130</td>\n",
              "      <td>0.560897</td>\n",
              "      <td>-0.978435</td>\n",
              "    </tr>\n",
              "  </tbody>\n",
              "</table>\n",
              "</div>"
            ],
            "text/plain": [
              "    b0         x        x2        x3        x4         y\n",
              "0  1.0  1.624345  2.638498  4.285832  6.961671 -1.461281\n",
              "1  1.0 -0.611756  0.374246 -0.228947  0.140060  0.238505\n",
              "2  1.0 -0.528172  0.278965 -0.147342  0.077822 -0.403646\n",
              "3  1.0 -1.072969  1.151262 -1.235268  1.325403 -1.630652\n",
              "4  1.0  0.865408  0.748930  0.648130  0.560897 -0.978435"
            ]
          },
          "metadata": {},
          "execution_count": 42
        }
      ]
    },
    {
      "cell_type": "code",
      "metadata": {
        "id": "p_VtDz-UCRMm"
      },
      "source": [
        "from sklearn.linear_model import LinearRegression"
      ],
      "execution_count": 43,
      "outputs": []
    },
    {
      "cell_type": "code",
      "metadata": {
        "id": "ZPfKu_BYCUUI"
      },
      "source": [
        "X = df.iloc[:, :5]\n",
        "y = df['y']\n",
        "\n",
        "model = LinearRegression()\n",
        "errors = np.zeros((len(X), 4))\n",
        "\n",
        "for i in range(len(X)):\n",
        "  leave_out = ~X.index.isin([i])\n",
        "  for j in range(4):\n",
        "    model.fit(X.iloc[leave_out, :j+2], y[leave_out])\n",
        "    errors[i,j] = (model.predict([X.iloc[i, :j+2]]) - y[i])**2"
      ],
      "execution_count": 44,
      "outputs": []
    },
    {
      "cell_type": "code",
      "metadata": {
        "colab": {
          "base_uri": "https://localhost:8080/"
        },
        "id": "04jzCFBfC092",
        "outputId": "8f37b739-01b5-4b5d-b0db-4705231de0ce"
      },
      "source": [
        "# Each errors here is average error for linear, quadratic, cubic and \n",
        "# quartic models\n",
        "# Looks like it stabilizes at quadratic \n",
        "errors.mean(axis=0)"
      ],
      "execution_count": 45,
      "outputs": [
        {
          "output_type": "execute_result",
          "data": {
            "text/plain": [
              "array([2.20767517, 0.91428971, 0.92687688, 0.86691169])"
            ]
          },
          "metadata": {},
          "execution_count": 45
        }
      ]
    },
    {
      "cell_type": "markdown",
      "metadata": {
        "id": "a-4z-9aXDHBK"
      },
      "source": [
        "Since the error does not improve after quadratic, it is likely the standard error for x3 and x4 would not be significant. "
      ]
    },
    {
      "cell_type": "markdown",
      "metadata": {
        "id": "NADK4Xx9DMn8"
      },
      "source": [
        "4. We will now consider the `Boston` housing dataset, from the `MASS` library. "
      ]
    },
    {
      "cell_type": "code",
      "metadata": {
        "colab": {
          "base_uri": "https://localhost:8080/",
          "height": 204
        },
        "id": "RIioKsjTDAOi",
        "outputId": "69281af8-85ca-4495-a2da-d30da6741279"
      },
      "source": [
        "boston = pd.read_csv('https://raw.githubusercontent.com/emredjan/ISL-python/master/datasets/Boston.csv')\n",
        "boston.head()"
      ],
      "execution_count": 46,
      "outputs": [
        {
          "output_type": "execute_result",
          "data": {
            "text/html": [
              "<div>\n",
              "<style scoped>\n",
              "    .dataframe tbody tr th:only-of-type {\n",
              "        vertical-align: middle;\n",
              "    }\n",
              "\n",
              "    .dataframe tbody tr th {\n",
              "        vertical-align: top;\n",
              "    }\n",
              "\n",
              "    .dataframe thead th {\n",
              "        text-align: right;\n",
              "    }\n",
              "</style>\n",
              "<table border=\"1\" class=\"dataframe\">\n",
              "  <thead>\n",
              "    <tr style=\"text-align: right;\">\n",
              "      <th></th>\n",
              "      <th>Unnamed: 0</th>\n",
              "      <th>crim</th>\n",
              "      <th>zn</th>\n",
              "      <th>indus</th>\n",
              "      <th>chas</th>\n",
              "      <th>nox</th>\n",
              "      <th>rm</th>\n",
              "      <th>age</th>\n",
              "      <th>dis</th>\n",
              "      <th>rad</th>\n",
              "      <th>tax</th>\n",
              "      <th>ptratio</th>\n",
              "      <th>black</th>\n",
              "      <th>lstat</th>\n",
              "      <th>medv</th>\n",
              "    </tr>\n",
              "  </thead>\n",
              "  <tbody>\n",
              "    <tr>\n",
              "      <th>0</th>\n",
              "      <td>1</td>\n",
              "      <td>0.00632</td>\n",
              "      <td>18.0</td>\n",
              "      <td>2.31</td>\n",
              "      <td>0</td>\n",
              "      <td>0.538</td>\n",
              "      <td>6.575</td>\n",
              "      <td>65.2</td>\n",
              "      <td>4.0900</td>\n",
              "      <td>1</td>\n",
              "      <td>296</td>\n",
              "      <td>15.3</td>\n",
              "      <td>396.90</td>\n",
              "      <td>4.98</td>\n",
              "      <td>24.0</td>\n",
              "    </tr>\n",
              "    <tr>\n",
              "      <th>1</th>\n",
              "      <td>2</td>\n",
              "      <td>0.02731</td>\n",
              "      <td>0.0</td>\n",
              "      <td>7.07</td>\n",
              "      <td>0</td>\n",
              "      <td>0.469</td>\n",
              "      <td>6.421</td>\n",
              "      <td>78.9</td>\n",
              "      <td>4.9671</td>\n",
              "      <td>2</td>\n",
              "      <td>242</td>\n",
              "      <td>17.8</td>\n",
              "      <td>396.90</td>\n",
              "      <td>9.14</td>\n",
              "      <td>21.6</td>\n",
              "    </tr>\n",
              "    <tr>\n",
              "      <th>2</th>\n",
              "      <td>3</td>\n",
              "      <td>0.02729</td>\n",
              "      <td>0.0</td>\n",
              "      <td>7.07</td>\n",
              "      <td>0</td>\n",
              "      <td>0.469</td>\n",
              "      <td>7.185</td>\n",
              "      <td>61.1</td>\n",
              "      <td>4.9671</td>\n",
              "      <td>2</td>\n",
              "      <td>242</td>\n",
              "      <td>17.8</td>\n",
              "      <td>392.83</td>\n",
              "      <td>4.03</td>\n",
              "      <td>34.7</td>\n",
              "    </tr>\n",
              "    <tr>\n",
              "      <th>3</th>\n",
              "      <td>4</td>\n",
              "      <td>0.03237</td>\n",
              "      <td>0.0</td>\n",
              "      <td>2.18</td>\n",
              "      <td>0</td>\n",
              "      <td>0.458</td>\n",
              "      <td>6.998</td>\n",
              "      <td>45.8</td>\n",
              "      <td>6.0622</td>\n",
              "      <td>3</td>\n",
              "      <td>222</td>\n",
              "      <td>18.7</td>\n",
              "      <td>394.63</td>\n",
              "      <td>2.94</td>\n",
              "      <td>33.4</td>\n",
              "    </tr>\n",
              "    <tr>\n",
              "      <th>4</th>\n",
              "      <td>5</td>\n",
              "      <td>0.06905</td>\n",
              "      <td>0.0</td>\n",
              "      <td>2.18</td>\n",
              "      <td>0</td>\n",
              "      <td>0.458</td>\n",
              "      <td>7.147</td>\n",
              "      <td>54.2</td>\n",
              "      <td>6.0622</td>\n",
              "      <td>3</td>\n",
              "      <td>222</td>\n",
              "      <td>18.7</td>\n",
              "      <td>396.90</td>\n",
              "      <td>5.33</td>\n",
              "      <td>36.2</td>\n",
              "    </tr>\n",
              "  </tbody>\n",
              "</table>\n",
              "</div>"
            ],
            "text/plain": [
              "   Unnamed: 0     crim    zn  indus  chas  ...  tax  ptratio   black  lstat  medv\n",
              "0           1  0.00632  18.0   2.31     0  ...  296     15.3  396.90   4.98  24.0\n",
              "1           2  0.02731   0.0   7.07     0  ...  242     17.8  396.90   9.14  21.6\n",
              "2           3  0.02729   0.0   7.07     0  ...  242     17.8  392.83   4.03  34.7\n",
              "3           4  0.03237   0.0   2.18     0  ...  222     18.7  394.63   2.94  33.4\n",
              "4           5  0.06905   0.0   2.18     0  ...  222     18.7  396.90   5.33  36.2\n",
              "\n",
              "[5 rows x 15 columns]"
            ]
          },
          "metadata": {},
          "execution_count": 46
        }
      ]
    },
    {
      "cell_type": "markdown",
      "metadata": {
        "id": "4U08qivdDdIx"
      },
      "source": [
        "A. Based on this dataset, provide an estimate for the population mean of `medv`. Call this estimate $\\hat{\\mu}$"
      ]
    },
    {
      "cell_type": "code",
      "metadata": {
        "colab": {
          "base_uri": "https://localhost:8080/"
        },
        "id": "GdZvV3DiDnpF",
        "outputId": "ace0a2a6-5890-40fa-db9a-5f6f49cd766c"
      },
      "source": [
        "boston['medv'].mean()"
      ],
      "execution_count": 47,
      "outputs": [
        {
          "output_type": "execute_result",
          "data": {
            "text/plain": [
              "22.532806324110698"
            ]
          },
          "metadata": {},
          "execution_count": 47
        }
      ]
    },
    {
      "cell_type": "markdown",
      "metadata": {
        "id": "PdJ4uXYZDrui"
      },
      "source": [
        "B. Provide an estimate of the standard error $\\hat{\\mu}$. Interpret this result. "
      ]
    },
    {
      "cell_type": "code",
      "metadata": {
        "colab": {
          "base_uri": "https://localhost:8080/"
        },
        "id": "u8bfWgSXD3cV",
        "outputId": "b5ba8e46-ba06-4c90-8d4c-2d2c4e77a2ea"
      },
      "source": [
        "# Standard deviation of mean \n",
        "boston['medv'].std() / np.sqrt(len(boston))"
      ],
      "execution_count": 48,
      "outputs": [
        {
          "output_type": "execute_result",
          "data": {
            "text/plain": [
              "0.4088611474975351"
            ]
          },
          "metadata": {},
          "execution_count": 48
        }
      ]
    },
    {
      "cell_type": "markdown",
      "metadata": {
        "id": "kymEh7FMD__6"
      },
      "source": [
        "C. Now estimate the standard error of $\\hat{\\mu}$ using the bootstrap. How does this compare with your answer from (B)?"
      ]
    },
    {
      "cell_type": "code",
      "metadata": {
        "colab": {
          "base_uri": "https://localhost:8080/"
        },
        "id": "V3lurjOoEL3O",
        "outputId": "dd95a5cc-2841-4dff-9dc4-184631f8c7ae"
      },
      "source": [
        "# Boostrap standard deviation of mean \n",
        "means = [boston['medv'].sample(n = len(boston), replace=True).mean() for i in range(1000)]\n",
        "np.std(means)"
      ],
      "execution_count": 50,
      "outputs": [
        {
          "output_type": "execute_result",
          "data": {
            "text/plain": [
              "0.41572510038050287"
            ]
          },
          "metadata": {},
          "execution_count": 50
        }
      ]
    },
    {
      "cell_type": "markdown",
      "metadata": {
        "id": "9S3GU5ZcEfRe"
      },
      "source": [
        "D. Based on your bootstrap estimate from (C), provide a 95% confidence interval for the mean of `medv`. Compare it to the results obtained using T-Test. "
      ]
    },
    {
      "cell_type": "code",
      "metadata": {
        "colab": {
          "base_uri": "https://localhost:8080/"
        },
        "id": "SSvwH6kTEqjb",
        "outputId": "4d43240f-0d35-4ea4-b7a0-16ee3b5c1f1a"
      },
      "source": [
        "se = np.std(means)\n",
        "boston['medv'].mean() - 2 * se, boston['medv'].mean() + 2 * se"
      ],
      "execution_count": 52,
      "outputs": [
        {
          "output_type": "execute_result",
          "data": {
            "text/plain": [
              "(21.701356123349694, 23.364256524871703)"
            ]
          },
          "metadata": {},
          "execution_count": 52
        }
      ]
    },
    {
      "cell_type": "code",
      "metadata": {
        "id": "lrUqj7HzE2Ru"
      },
      "source": [
        "import scipy.stats as st "
      ],
      "execution_count": 53,
      "outputs": []
    },
    {
      "cell_type": "code",
      "metadata": {
        "colab": {
          "base_uri": "https://localhost:8080/"
        },
        "id": "XQFokqmPE5AH",
        "outputId": "b70cc796-ce0a-455b-a5fe-6256ff47d4bc"
      },
      "source": [
        "st.t.interval(0.95, len(boston['medv'])-1, loc=np.mean(boston['medv']), scale = st.sem(boston['medv']))"
      ],
      "execution_count": 54,
      "outputs": [
        {
          "output_type": "execute_result",
          "data": {
            "text/plain": [
              "(21.729528014578616, 23.33608463364278)"
            ]
          },
          "metadata": {},
          "execution_count": 54
        }
      ]
    },
    {
      "cell_type": "markdown",
      "metadata": {
        "id": "eQIs1wvIFGVM"
      },
      "source": [
        "E. Based on this dataset, provide an estimate, $\\hat{\\mu}_{med}$, for the median value of `medv` in the population. "
      ]
    },
    {
      "cell_type": "code",
      "metadata": {
        "colab": {
          "base_uri": "https://localhost:8080/"
        },
        "id": "_4M6-koKFUXq",
        "outputId": "3900505d-156d-405d-b408-30d647c6ebf0"
      },
      "source": [
        "boston['medv'].median()"
      ],
      "execution_count": 55,
      "outputs": [
        {
          "output_type": "execute_result",
          "data": {
            "text/plain": [
              "21.2"
            ]
          },
          "metadata": {},
          "execution_count": 55
        }
      ]
    },
    {
      "cell_type": "markdown",
      "metadata": {
        "id": "Re-E4cn-FZYA"
      },
      "source": [
        "F. We would now like to estimate the standard error of $\\hat{\\mu}_{med}$. Unfortunately, there is no simple formula for computing the standard error of the median. Instead, estimate the standard error of the median using bootstrap. "
      ]
    },
    {
      "cell_type": "code",
      "metadata": {
        "colab": {
          "base_uri": "https://localhost:8080/"
        },
        "id": "GqBANc32Fn5o",
        "outputId": "304843d0-7ee1-4e2c-a68b-ffb9ce15a1e9"
      },
      "source": [
        "medians = [boston['medv'].sample(n=len(boston), replace=True).median() for i in range(1000)]\n",
        "np.std(medians)"
      ],
      "execution_count": 56,
      "outputs": [
        {
          "output_type": "execute_result",
          "data": {
            "text/plain": [
              "0.38552431829911815"
            ]
          },
          "metadata": {},
          "execution_count": 56
        }
      ]
    },
    {
      "cell_type": "markdown",
      "metadata": {
        "id": "H2dC9lbnFyuD"
      },
      "source": [
        "G. Based on this dataset, provide an estimate for the tenth percentile of `medv` in Boston suburbs. Call this quantity $\\hat{\\mu}_{0.1}$."
      ]
    },
    {
      "cell_type": "code",
      "metadata": {
        "colab": {
          "base_uri": "https://localhost:8080/"
        },
        "id": "4MdA97vPGAPb",
        "outputId": "9f591bf1-1b0d-4dd9-bbf6-b19697ed575a"
      },
      "source": [
        "boston['medv'].quantile(.1)"
      ],
      "execution_count": 57,
      "outputs": [
        {
          "output_type": "execute_result",
          "data": {
            "text/plain": [
              "12.75"
            ]
          },
          "metadata": {},
          "execution_count": 57
        }
      ]
    },
    {
      "cell_type": "markdown",
      "metadata": {
        "id": "P4zHPynIGGJv"
      },
      "source": [
        "H. Use the bootstrap to estimate the standard error of $\\hat{\\mu}_{0.1}$. "
      ]
    },
    {
      "cell_type": "code",
      "metadata": {
        "colab": {
          "base_uri": "https://localhost:8080/"
        },
        "id": "0VnuaWVWGEuu",
        "outputId": "b22668ce-b0a7-4beb-a882-74ec285c553e"
      },
      "source": [
        "quantile_10 = [boston['medv'].sample(n = len(boston), replace=True).quantile(.1) for i in range(1000)]\n",
        "np.std(quantile_10)"
      ],
      "execution_count": 59,
      "outputs": [
        {
          "output_type": "execute_result",
          "data": {
            "text/plain": [
              "0.4945108593347572"
            ]
          },
          "metadata": {},
          "execution_count": 59
        }
      ]
    }
  ]
}